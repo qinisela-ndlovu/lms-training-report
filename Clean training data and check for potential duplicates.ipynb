{
 "cells": [
  {
   "cell_type": "raw",
   "id": "ea9b3ad6-88ce-4adf-83c4-c919a49b1774",
   "metadata": {},
   "source": [
    "#The lines below clean the LMS report (outstanding & completed training) by creating separate tabs for each module and saving them to new workbooks.\n",
    "#The second part reads the two created workbooks and performs a VLOOKUP-like function against the provided company numbers.\n",
    "#If a company number is not found, continue.\n",
    "#If it is found, remove it from the list to avoid duplicate assignments.\n"
   ]
  },
  {
   "cell_type": "code",
   "execution_count": 1,
   "id": "b6145f20-53a0-4b33-9a31-5575ad71e5ff",
   "metadata": {},
   "outputs": [
    {
     "name": "stdout",
     "output_type": "stream",
     "text": [
      "Requirement already satisfied: xlsxwriter in c:\\users\\qndlovu\\appdata\\local\\anaconda3\\lib\\site-packages (3.2.5)\n"
     ]
    }
   ],
   "source": [
    "!pip install xlsxwriter"
   ]
  },
  {
   "cell_type": "code",
   "execution_count": 2,
   "id": "f148e1d6-7ae9-470b-8a48-6f69e86f2082",
   "metadata": {},
   "outputs": [
    {
     "name": "stdout",
     "output_type": "stream",
     "text": [
      "Outstanding Report created successfully!\n",
      "Completed report created successfully!\n"
     ]
    }
   ],
   "source": [
    "# A script to automate code of conduct training tracking of progress/status\n",
    "\n",
    "# define your modules\n",
    "Item_Ids = ['DP_001', 'DP_002', 'DP_003','DP_004','DP_005','POPIA001']\n",
    "\n",
    "import pandas as pd\n",
    "outstanding_data = pd.read_csv(\"sample/outstanding dp modules.csv\", delimiter=',')\n",
    "\n",
    "# Create an Excel file with separate sheets for each module\n",
    "with pd.ExcelWriter('Data_Protection_outstanding_Report.xlsx', engine='xlsxwriter') as writer:\n",
    "    for item_id in Item_Ids:\n",
    "        # Filter rows where 'Item ID' exactly matches the module code\n",
    "        module_df = outstanding_data[outstanding_data['Item ID'].str.contains(item_id, case=False, na=False)]\n",
    "        module_df.to_excel(writer, sheet_name=item_id, index=False)\n",
    "\n",
    "print(\"Outstanding Report created successfully!\")\n",
    "\n",
    "# now do the same for completed items(Could've used the function but I keep it like this\n",
    "# just in case I want to check for only one status(complete/outstanding) or I want to stop before Vlook-up like function in part2\n",
    "completed_data = pd.read_csv(\"sample/completed dp modules.csv\", delimiter=',')\n",
    "\n",
    "# Create Excel report for completed employees\n",
    "with pd.ExcelWriter('Data_Protection_Completed_Report.xlsx', engine='xlsxwriter') as writer:\n",
    "    for item_id in Item_Ids:\n",
    "        df = completed_data[completed_data['Item ID'].str.contains(item_id, case=False, na=False)]\n",
    "        df.to_excel(writer, sheet_name=item_id, index=False)\n",
    "\n",
    "print(\"Completed report created successfully!\")"
   ]
  },
  {
   "cell_type": "markdown",
   "id": "aef0be02-b5b8-4075-bb7a-3d24766ead68",
   "metadata": {},
   "source": [
    "You can stop here! if the objective was to identify who has completed & who is outstanding."
   ]
  },
  {
   "cell_type": "markdown",
   "id": "3e06b7db-abc4-49f3-a181-666c000bc210",
   "metadata": {},
   "source": [
    "Part 2 -- Avoiding VLookups in excel since many tabs are involved, it can be messy"
   ]
  },
  {
   "cell_type": "code",
   "execution_count": 6,
   "id": "8993296f-f16e-4562-8995-60922d4d5651",
   "metadata": {},
   "outputs": [
    {
     "name": "stdout",
     "output_type": "stream",
     "text": [
      "Company numbers not found in either workbook:\n",
      "['345']\n"
     ]
    }
   ],
   "source": [
    "# Load all sheets from both Excel workbooks\n",
    "outstanding = pd.read_excel('Data_Protection_outstanding_Report.xlsx', sheet_name=None)\n",
    "completed = pd.read_excel('Data_Protection_Completed_Report.xlsx', sheet_name=None)\n",
    "\n",
    "# function to extract all company numbers from all sheets\n",
    "def extract_company_numbers(sheet_dict, col_name='User ID'):\n",
    "    company_nums = set()\n",
    "    for sheet in sheet_dict.values():\n",
    "        if col_name in sheet.columns:\n",
    "            company_nums.update(sheet[col_name].dropna().astype(str).str.strip())\n",
    "    return company_nums\n",
    "\n",
    "# Extract company No.s from both workbooks\n",
    "outstanding_companies = extract_company_numbers(outstanding)\n",
    "completed_companies = extract_company_numbers(completed)\n",
    "\n",
    "# Combine all known company No.s (both workbooks)\n",
    "all_known = outstanding_companies.union(completed_companies)\n",
    "\n",
    "# The company No.s you want to check before assigning\n",
    "# This is dummy data, replace with actual company numbers\n",
    "master_list = [\n",
    "    '1035709','1014338','700510167','345','700551373','70052332','90052465'\n",
    "]\n",
    "\n",
    "# Find company No.s not in either workbook\n",
    "missing_companies = [c for c in master_list if c not in all_known]\n",
    "\n",
    "print(\"Company numbers not found in either workbook:\")\n",
    "print(missing_companies)"
   ]
  },
  {
   "cell_type": "code",
   "execution_count": null,
   "id": "eb35e811-a3c7-4a2c-9907-2eaf7c1b8bda",
   "metadata": {},
   "outputs": [],
   "source": []
  }
 ],
 "metadata": {
  "kernelspec": {
   "display_name": "Python 3 (ipykernel)",
   "language": "python",
   "name": "python3"
  },
  "language_info": {
   "codemirror_mode": {
    "name": "ipython",
    "version": 3
   },
   "file_extension": ".py",
   "mimetype": "text/x-python",
   "name": "python",
   "nbconvert_exporter": "python",
   "pygments_lexer": "ipython3",
   "version": "3.12.7"
  }
 },
 "nbformat": 4,
 "nbformat_minor": 5
}
