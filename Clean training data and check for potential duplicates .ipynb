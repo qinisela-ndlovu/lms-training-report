{
 "cells": [
  {
   "cell_type": "code",
   "execution_count": null,
   "id": "e6d3bdce-2e1a-4dfa-af0b-074087521fe5",
   "metadata": {},
   "outputs": [],
   "source": [
    "#The lines below clean the LMS report (outstanding & completed training) by creating separate tabs for each module and saving them to new workbooks.\n",
    "#The second part reads the two created workbooks and performs a VLOOKUP-like function against the provided company numbers.\n",
    "#If a company number is not found, continue.\n",
    "#If it is found, remove it from the list to avoid duplicate assignments.\n"
   ]
  },
  {
   "cell_type": "markdown",
   "id": "caa9d459-c8d1-4e42-b200-980be4ad0e3b",
   "metadata": {},
   "source": [
    "# \"sample/\" is the file location"
   ]
  },
  {
   "cell_type": "code",
   "execution_count": 1,
   "id": "b6145f20-53a0-4b33-9a31-5575ad71e5ff",
   "metadata": {},
   "outputs": [
    {
     "name": "stdout",
     "output_type": "stream",
     "text": [
      "Requirement already satisfied: xlsxwriter in c:\\users\\qndlovu\\appdata\\local\\anaconda3\\lib\\site-packages (3.2.5)\n"
     ]
    }
   ],
   "source": [
    "!pip install xlsxwriter"
   ]
  },
  {
   "cell_type": "code",
   "execution_count": 2,
   "id": "f148e1d6-7ae9-470b-8a48-6f69e86f2082",
   "metadata": {},
   "outputs": [
    {
     "name": "stdout",
     "output_type": "stream",
     "text": [
      "Outstanding Report created successfully!\n",
      "Completed report created successfully!\n"
     ]
    }
   ],
   "source": [
    "# A script to automate code of conduct training tracking of progress/status\n",
    "\n",
    "# define your modules\n",
    "Item_Ids = ['DP_001', 'DP_002', 'DP_003','DP_004','DP_005','POPIA001']\n",
    "\n",
    "import pandas as pd\n",
    "outstanding_data = pd.read_csv(\"sample/outstanding dp modules.csv\", delimiter=',')\n",
    "\n",
    "# Create an Excel file with separate sheets for each module\n",
    "with pd.ExcelWriter('Data_Protection_outstanding_Report.xlsx', engine='xlsxwriter') as writer:\n",
    "    for item_id in Item_Ids:\n",
    "        # Filter rows where 'Item ID' exactly matches the module code\n",
    "        module_df = outstanding_data[outstanding_data['Item ID'].str.contains(item_id, case=False, na=False)]\n",
    "        module_df.to_excel(writer, sheet_name=item_id, index=False)\n",
    "\n",
    "print(\"Outstanding Report created successfully!\")\n",
    "\n",
    "# now do the same for completed items(Could've used the function but I keep it like this\n",
    "# just in case I want to check for only one status(complete/outstanding) or I want to stop before Vlook-up like function in part2\n",
    "completed_data = pd.read_csv(\"sample/completed dp modules.csv\", delimiter=',')\n",
    "\n",
    "# Create Excel report for completed employees\n",
    "with pd.ExcelWriter('Data_Protection_Completed_Report.xlsx', engine='xlsxwriter') as writer:\n",
    "    for item_id in Item_Ids:\n",
    "        df = completed_data[completed_data['Item ID'].str.contains(item_id, case=False, na=False)]\n",
    "        df.to_excel(writer, sheet_name=item_id, index=False)\n",
    "\n",
    "print(\"Completed report created successfully!\")"
   ]
  },
  {
   "cell_type": "markdown",
   "id": "aef0be02-b5b8-4075-bb7a-3d24766ead68",
   "metadata": {},
   "source": [
    "You can stop here! if the objective was to identify who has completed & who is outstanding."
   ]
  },
  {
   "cell_type": "markdown",
   "id": "3e06b7db-abc4-49f3-a181-666c000bc210",
   "metadata": {},
   "source": [
    "Part 2 -- Avoiding VLookups in excel since many tabs are involved, it can be messy"
   ]
  },
  {
   "cell_type": "code",
   "execution_count": 4,
   "id": "8993296f-f16e-4562-8995-60922d4d5651",
   "metadata": {},
   "outputs": [
    {
     "name": "stdout",
     "output_type": "stream",
     "text": [
      "Module: DP_003\n",
      " - Employees safe to assign training: {'345', '1014338', '700551373', '1035709'}\n",
      "\n",
      "Module: DP_001\n",
      " - Employees safe to assign training: {'345', '1014338', '700551373', '1035709'}\n",
      "\n",
      "Module: DP_002\n",
      " - Employees safe to assign training: {'345', '1014338', '700551373', '1035709'}\n",
      "\n",
      "Module: POPIA001\n",
      " - Employees safe to assign training: {'345', '1014338', '70055414', '700551373', '70053888', '70052332', '1035709'}\n",
      "\n",
      "Module: DP_004\n",
      " - Employees safe to assign training: {'345', '1014338', '700551373', '70052332', '1035709'}\n",
      "\n",
      "Module: DP_005\n",
      " - Employees safe to assign training: {'345', '1014338', '700551373', '1035709'}\n",
      "\n"
     ]
    }
   ],
   "source": [
    "# Load all sheets from both Excel workbooks\n",
    "outstanding = pd.read_excel('Data_Protection_outstanding_Report.xlsx', sheet_name=None)\n",
    "completed = pd.read_excel('Data_Protection_Completed_Report.xlsx', sheet_name=None)\n",
    "\n",
    "\n",
    "# The company No.s you want to check before assigning\n",
    "# This is dummy data, replace with actual company numbers\n",
    "master_list = [\n",
    "    '1035709','1014338','70053888','345','700551373','70052332','70055414'\n",
    "]\n",
    "# Employees from master list who are supposed to have done this module\n",
    "master_set = set(master_list)\n",
    "\n",
    "# Column namew with user IDs\n",
    "column_name = 'User ID'\n",
    "\n",
    "# union of all sheet names\n",
    "all_modules = set(outstanding.keys()).union(set(completed.keys()))\n",
    "\n",
    "for module_name in all_modules:\n",
    "    out_sheet = outstanding.get(module_name, pd.DataFrame())\n",
    "    comp_sheet = completed.get(module_name, pd.DataFrame())\n",
    "\n",
    "    # Extract user IDs as sets for this module\n",
    "    out_compNums = set(out_sheet[column_name].dropna().astype(str).str.strip())\n",
    "    comp_compNums = set(comp_sheet[column_name].dropna().astype(str).str.strip())\n",
    "\n",
    "\n",
    "    # Employees in outstanding but not completed (i.e., incomplete)\n",
    "    not_completed = master_set - comp_compNums\n",
    "\n",
    "    # employees safe to continue with, did not complete AND not already outstanding\n",
    "    to_assign = not_completed - out_compNums\n",
    "\n",
    "\n",
    "\n",
    "    print(f\"Module: {module_name}\")\n",
    "    if to_assign:\n",
    "        print(f\" - Employees safe to assign training: {to_assign}\")\n",
    "    else:\n",
    "        print(\" - No new assignments needed.\")\n",
    "    print()\n"
   ]
  },
  {
   "cell_type": "markdown",
   "id": "98960c3f-dcf4-4e4e-9ca9-f0023711644e",
   "metadata": {},
   "source": [
    "To keep this Notebook simple I print the results, I could've saved the results in a new file"
   ]
  }
 ],
 "metadata": {
  "kernelspec": {
   "display_name": "Python 3 (ipykernel)",
   "language": "python",
   "name": "python3"
  },
  "language_info": {
   "codemirror_mode": {
    "name": "ipython",
    "version": 3
   },
   "file_extension": ".py",
   "mimetype": "text/x-python",
   "name": "python",
   "nbconvert_exporter": "python",
   "pygments_lexer": "ipython3",
   "version": "3.12.7"
  }
 },
 "nbformat": 4,
 "nbformat_minor": 5
}
